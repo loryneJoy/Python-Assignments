{
 "cells": [
  {
   "cell_type": "markdown",
   "id": "48c048b5",
   "metadata": {},
   "source": [
    "# SET ASSIGNMENT\n"
   ]
  },
  {
   "cell_type": "code",
   "execution_count": 2,
   "id": "6e571213",
   "metadata": {},
   "outputs": [],
   "source": [
    "import math\n",
    "import pandas as pd"
   ]
  },
  {
   "cell_type": "code",
   "execution_count": 3,
   "id": "713678d7",
   "metadata": {},
   "outputs": [],
   "source": [
    "omega={1,2,3,4,5,6,7,8,9,10,11,12}\n",
    "a ={2,4,6,8,10}\n",
    "b ={3,8,11,12}\n",
    "c = {2,3,6,8,9,11}\n"
   ]
  },
  {
   "cell_type": "code",
   "execution_count": 12,
   "id": "00684003",
   "metadata": {},
   "outputs": [
    {
     "data": {
      "text/plain": [
       "\"Type a: <class 'set'>, a: {2, 4, 6, 8, 10}\""
      ]
     },
     "execution_count": 12,
     "metadata": {},
     "output_type": "execute_result"
    }
   ],
   "source": [
    "f'Type a: {type(a)}, a: {a}'"
   ]
  },
  {
   "cell_type": "code",
   "execution_count": 13,
   "id": "c86adff1",
   "metadata": {},
   "outputs": [
    {
     "data": {
      "text/plain": [
       "\"Type b: <class 'set'>, b: {8, 3, 11, 12}\""
      ]
     },
     "execution_count": 13,
     "metadata": {},
     "output_type": "execute_result"
    }
   ],
   "source": [
    "f'Type b: {type(b)}, b: {b}'"
   ]
  },
  {
   "cell_type": "code",
   "execution_count": 14,
   "id": "7d3b3096",
   "metadata": {},
   "outputs": [
    {
     "data": {
      "text/plain": [
       "\"Type c: <class 'set'>, c: {2, 3, 6, 8, 9, 11}\""
      ]
     },
     "execution_count": 14,
     "metadata": {},
     "output_type": "execute_result"
    }
   ],
   "source": [
    "f'Type c: {type(c)}, c: {c}'"
   ]
  },
  {
   "cell_type": "code",
   "execution_count": 15,
   "id": "f908a7fe",
   "metadata": {},
   "outputs": [
    {
     "data": {
      "text/plain": [
       "\"Type omega: <class 'set'>, omega: {1, 2, 3, 4, 5, 6, 7, 8, 9, 10, 11, 12}\""
      ]
     },
     "execution_count": 15,
     "metadata": {},
     "output_type": "execute_result"
    }
   ],
   "source": [
    "f'Type omega: {type(omega)}, omega: {omega}'"
   ]
  },
  {
   "cell_type": "code",
   "execution_count": 4,
   "id": "8c3d1552",
   "metadata": {},
   "outputs": [
    {
     "name": "stdout",
     "output_type": "stream",
     "text": [
      "{8}\n"
     ]
    }
   ],
   "source": [
    "# question 1 : $ A \\cap B$ - intersection\n",
    "ans = a&b\n",
    "print(ans)"
   ]
  },
  {
   "cell_type": "code",
   "execution_count": 5,
   "id": "5eb15cfc",
   "metadata": {},
   "outputs": [
    {
     "name": "stdout",
     "output_type": "stream",
     "text": [
      "{2, 3, 4, 6, 8, 9, 10, 11}\n"
     ]
    }
   ],
   "source": [
    "# question 2 : $ A \\cup C$ -union \n",
    "ans = a|c\n",
    "print(ans)"
   ]
  },
  {
   "cell_type": "code",
   "execution_count": 6,
   "id": "adb9be35",
   "metadata": {},
   "outputs": [
    {
     "data": {
      "text/plain": [
       "{1, 3, 5, 7, 9, 11, 12}"
      ]
     },
     "execution_count": 6,
     "metadata": {},
     "output_type": "execute_result"
    }
   ],
   "source": [
    "# absolute A\n",
    "omega-a"
   ]
  },
  {
   "cell_type": "code",
   "execution_count": 7,
   "id": "56ecc4ad",
   "metadata": {},
   "outputs": [
    {
     "data": {
      "text/plain": [
       "{1, 2, 4, 5, 6, 7, 9, 10}"
      ]
     },
     "execution_count": 7,
     "metadata": {},
     "output_type": "execute_result"
    }
   ],
   "source": [
    "#The absolute complement of B\n",
    "omega-b"
   ]
  },
  {
   "cell_type": "code",
   "execution_count": 8,
   "id": "7b67c426",
   "metadata": {},
   "outputs": [
    {
     "data": {
      "text/plain": [
       "{1, 5, 7, 9}"
      ]
     },
     "execution_count": 8,
     "metadata": {},
     "output_type": "execute_result"
    }
   ],
   "source": [
    "# complement of A union B\n",
    "omega -(a|b)"
   ]
  },
  {
   "cell_type": "code",
   "execution_count": 9,
   "id": "635941d4",
   "metadata": {},
   "outputs": [
    {
     "data": {
      "text/plain": [
       "{12}"
      ]
     },
     "execution_count": 9,
     "metadata": {},
     "output_type": "execute_result"
    }
   ],
   "source": [
    "#The elements that are in set B but not in set C\n",
    "b&(omega-c)"
   ]
  },
  {
   "cell_type": "code",
   "execution_count": 10,
   "id": "16c883bd",
   "metadata": {},
   "outputs": [
    {
     "data": {
      "text/plain": [
       "{2, 4, 6, 10}"
      ]
     },
     "execution_count": 10,
     "metadata": {},
     "output_type": "execute_result"
    }
   ],
   "source": [
    "#A\\B\n",
    "a-b"
   ]
  },
  {
   "cell_type": "code",
   "execution_count": 11,
   "id": "69489f46",
   "metadata": {},
   "outputs": [
    {
     "data": {
      "text/plain": [
       "{2, 6, 8, 9}"
      ]
     },
     "execution_count": 11,
     "metadata": {},
     "output_type": "execute_result"
    }
   ],
   "source": [
    "#c\\(b\\a)\n",
    "c-(b-a)"
   ]
  },
  {
   "cell_type": "code",
   "execution_count": 16,
   "id": "319b030f",
   "metadata": {},
   "outputs": [
    {
     "data": {
      "text/plain": [
       "{2, 6, 8, 9}"
      ]
     },
     "execution_count": 16,
     "metadata": {},
     "output_type": "execute_result"
    }
   ],
   "source": [
    "# (C∩A)∪(C∖B)\n",
    "(c&a)|(c-b)"
   ]
  },
  {
   "cell_type": "markdown",
   "id": "972e831a",
   "metadata": {},
   "source": [
    "# ∣\n",
    "A\n",
    "∪\n",
    "B\n",
    "∪\n",
    "C\n",
    "∣=∣\n",
    "A\n",
    "∣\n",
    "+\n",
    "∣\n",
    "B\n",
    "∣\n",
    "+\n",
    "∣\n",
    "C\n",
    "∣\n",
    "−\n",
    "∣\n",
    "A\n",
    "∩\n",
    "B\n",
    "∣\n",
    "−\n",
    "∣\n",
    "A\n",
    "∩\n",
    "C\n",
    "∣\n",
    "−\n",
    "∣\n",
    "B\n",
    "∩\n",
    "C\n",
    "∣\n",
    "+\n",
    "∣\n",
    "A\n",
    "∩\n",
    "B\n",
    "∩\n",
    "C\n",
    "∣"
   ]
  },
  {
   "cell_type": "code",
   "execution_count": 20,
   "id": "05187414",
   "metadata": {},
   "outputs": [
    {
     "name": "stdout",
     "output_type": "stream",
     "text": [
      "9\n"
     ]
    }
   ],
   "source": [
    "a|b|c\n",
    "max=len(a|b|c)\n",
    "print(max)"
   ]
  },
  {
   "cell_type": "code",
   "execution_count": 18,
   "id": "8b97f896",
   "metadata": {},
   "outputs": [
    {
     "name": "stdout",
     "output_type": "stream",
     "text": [
      "9\n"
     ]
    }
   ],
   "source": [
    "Total = len(a) + len(b) + len(c)-len(a&b)-len(a&c)-len(b&c) + len(a&b&c)\n",
    "print(Total)"
   ]
  },
  {
   "cell_type": "code",
   "execution_count": 22,
   "id": "b57d0717",
   "metadata": {},
   "outputs": [
    {
     "name": "stdout",
     "output_type": "stream",
     "text": [
      "True\n"
     ]
    }
   ],
   "source": [
    "print(max==Total)"
   ]
  },
  {
   "cell_type": "code",
   "execution_count": 33,
   "id": "a4429008",
   "metadata": {},
   "outputs": [],
   "source": [
    "Nina = set([\"Cat\",\"Dog\",\"Rabbit\",\"Donkey\",\"Parrot\", \"Goldfish\"])\n",
    "Mary = set([\"Dog\",\"Chinchilla\",\"Horse\", \"Chicken\"])\n",
    "Eve = set([\"Rabbit\", \"Turtle\", \"Goldfish\"])"
   ]
  },
  {
   "cell_type": "code",
   "execution_count": 34,
   "id": "eab2d1c4",
   "metadata": {},
   "outputs": [
    {
     "name": "stdout",
     "output_type": "stream",
     "text": [
      "{'Goldfish', 'Rabbit'}\n"
     ]
    }
   ],
   "source": [
    "Eve.remove(\"Turtle\")\n",
    "print(Eve)"
   ]
  },
  {
   "cell_type": "code",
   "execution_count": 35,
   "id": "07e823c6",
   "metadata": {},
   "outputs": [
    {
     "name": "stdout",
     "output_type": "stream",
     "text": [
      "{'Dog', 'Rabbit', 'Cat', 'Chicken', 'Chinchilla', 'Goldfish', 'Horse', 'Parrot', 'Donkey'}\n"
     ]
    }
   ],
   "source": [
    "Nina.update(Mary)\n",
    "print(Nina)"
   ]
  },
  {
   "cell_type": "code",
   "execution_count": 36,
   "id": "d245b341",
   "metadata": {},
   "outputs": [
    {
     "name": "stdout",
     "output_type": "stream",
     "text": [
      "set()\n"
     ]
    }
   ],
   "source": [
    "Mary.clear()\n",
    "print(Mary)"
   ]
  },
  {
   "cell_type": "code",
   "execution_count": 37,
   "id": "b8c0b7cd",
   "metadata": {},
   "outputs": [
    {
     "name": "stdout",
     "output_type": "stream",
     "text": [
      "9\n"
     ]
    }
   ],
   "source": [
    "species = len(Nina)\n",
    "print(species)"
   ]
  },
  {
   "cell_type": "code",
   "execution_count": 38,
   "id": "c35b34c9",
   "metadata": {},
   "outputs": [
    {
     "name": "stdout",
     "output_type": "stream",
     "text": [
      "{'Dog', 'Cat', 'Chicken', 'Chinchilla', 'Horse', 'Parrot', 'Donkey'}\n"
     ]
    },
    {
     "data": {
      "text/plain": [
       "7"
      ]
     },
     "execution_count": 38,
     "metadata": {},
     "output_type": "execute_result"
    }
   ],
   "source": [
    "Nina.difference_update(Eve)\n",
    "print(Nina)\n",
    "len(Nina)"
   ]
  },
  {
   "cell_type": "markdown",
   "id": "b799da26",
   "metadata": {},
   "source": [
    "## Optional assignment"
   ]
  },
  {
   "cell_type": "code",
   "execution_count": 41,
   "id": "5129849b",
   "metadata": {},
   "outputs": [
    {
     "data": {
      "text/html": [
       "<div>\n",
       "<style scoped>\n",
       "    .dataframe tbody tr th:only-of-type {\n",
       "        vertical-align: middle;\n",
       "    }\n",
       "\n",
       "    .dataframe tbody tr th {\n",
       "        vertical-align: top;\n",
       "    }\n",
       "\n",
       "    .dataframe thead th {\n",
       "        text-align: right;\n",
       "    }\n",
       "</style>\n",
       "<table border=\"1\" class=\"dataframe\">\n",
       "  <thead>\n",
       "    <tr style=\"text-align: right;\">\n",
       "      <th></th>\n",
       "      <th>Rank</th>\n",
       "      <th>Country</th>\n",
       "      <th>2017 population</th>\n",
       "      <th>% of pop.</th>\n",
       "      <th>Average relative annual growth</th>\n",
       "      <th>Average absolute annual growth</th>\n",
       "      <th>Official figure</th>\n",
       "      <th>Date of last figure</th>\n",
       "      <th>Source</th>\n",
       "    </tr>\n",
       "  </thead>\n",
       "  <tbody>\n",
       "    <tr>\n",
       "      <th>0</th>\n",
       "      <td>1</td>\n",
       "      <td>Germany</td>\n",
       "      <td>82800000</td>\n",
       "      <td>16.18</td>\n",
       "      <td>0.76</td>\n",
       "      <td>628876</td>\n",
       "      <td>82576900</td>\n",
       "      <td>2017-03-31</td>\n",
       "      <td>Official estimate</td>\n",
       "    </tr>\n",
       "    <tr>\n",
       "      <th>1</th>\n",
       "      <td>2</td>\n",
       "      <td>France</td>\n",
       "      <td>67210459</td>\n",
       "      <td>13.10</td>\n",
       "      <td>0.40</td>\n",
       "      <td>265557</td>\n",
       "      <td>67174000</td>\n",
       "      <td>2018-01-01</td>\n",
       "      <td>Monthly official estimate</td>\n",
       "    </tr>\n",
       "    <tr>\n",
       "      <th>2</th>\n",
       "      <td>3</td>\n",
       "      <td>United Kingdom</td>\n",
       "      <td>65808573</td>\n",
       "      <td>12.86</td>\n",
       "      <td>0.65</td>\n",
       "      <td>428793</td>\n",
       "      <td>65648100</td>\n",
       "      <td>2017-06-30</td>\n",
       "      <td>Official estimate</td>\n",
       "    </tr>\n",
       "    <tr>\n",
       "      <th>3</th>\n",
       "      <td>4</td>\n",
       "      <td>Italy</td>\n",
       "      <td>60589445</td>\n",
       "      <td>11.84</td>\n",
       "      <td>-0.13</td>\n",
       "      <td>-76001</td>\n",
       "      <td>60494000</td>\n",
       "      <td>2018-01-01</td>\n",
       "      <td>Monthly official estimate</td>\n",
       "    </tr>\n",
       "    <tr>\n",
       "      <th>4</th>\n",
       "      <td>5</td>\n",
       "      <td>Spain</td>\n",
       "      <td>46528966</td>\n",
       "      <td>9.09</td>\n",
       "      <td>0.19</td>\n",
       "      <td>89037</td>\n",
       "      <td>46549045</td>\n",
       "      <td>2017-07-01</td>\n",
       "      <td>Official estimate</td>\n",
       "    </tr>\n",
       "  </tbody>\n",
       "</table>\n",
       "</div>"
      ],
      "text/plain": [
       "   Rank         Country  2017 population  % of pop.  \\\n",
       "0     1        Germany          82800000      16.18   \n",
       "1     2          France         67210459      13.10   \n",
       "2     3  United Kingdom         65808573      12.86   \n",
       "3     4          Italy          60589445      11.84   \n",
       "4     5          Spain          46528966       9.09   \n",
       "\n",
       "   Average relative annual growth  Average absolute annual growth  \\\n",
       "0                            0.76                          628876   \n",
       "1                            0.40                          265557   \n",
       "2                            0.65                          428793   \n",
       "3                           -0.13                          -76001   \n",
       "4                            0.19                           89037   \n",
       "\n",
       "   Official figure Date of last figure                     Source  \n",
       "0         82576900          2017-03-31          Official estimate  \n",
       "1         67174000          2018-01-01  Monthly official estimate  \n",
       "2         65648100          2017-06-30          Official estimate  \n",
       "3         60494000          2018-01-01  Monthly official estimate  \n",
       "4         46549045          2017-07-01          Official estimate  "
      ]
     },
     "execution_count": 41,
     "metadata": {},
     "output_type": "execute_result"
    }
   ],
   "source": [
    "# Load Europe and EU\n",
    "europe = pd.read_excel('Europe_and_EU.xlsx', sheet_name = 'Europe') \n",
    "eu = pd.read_excel('Europe_and_EU.xlsx', sheet_name = 'EU')\n",
    "eu.head()"
   ]
  },
  {
   "cell_type": "code",
   "execution_count": 42,
   "id": "ce1cc901",
   "metadata": {},
   "outputs": [],
   "source": [
    "# Clean country names by stripping whitespace and handling special cases\n",
    "europe['Country'] = europe['Country'].str.strip()\n",
    "eu['Country'] = eu['Country'].str.strip()"
   ]
  },
  {
   "cell_type": "code",
   "execution_count": 43,
   "id": "f3977a7b",
   "metadata": {},
   "outputs": [
    {
     "name": "stdout",
     "output_type": "stream",
     "text": [
      "Europe dataset preview:\n",
      "   Rank  Country  Population  % of population  \\\n",
      "0   1.0   Russia   143964709            17.15   \n",
      "1   2.0  Germany    82521653             9.80   \n",
      "2   3.0   Turkey    80810000             9.60   \n",
      "\n",
      "   Average relative annual growth (%)  Average absolute annual growth  \\\n",
      "0                                0.19                          294285   \n",
      "1                                1.20                          600000   \n",
      "2                                1.34                         1035000   \n",
      "\n",
      "  Estimated doubling time (Years)  Official figure (where available)  \\\n",
      "0                             368                          146839993   \n",
      "1                              90                           82800000   \n",
      "2                              52                           77695904   \n",
      "\n",
      "   Date of last figure Regional grouping             Source  \n",
      "0  2017-01-01 00:00:00             EAEU                 [1]  \n",
      "1  2016-12-31 00:00:00               EU   Official estimate  \n",
      "2  2016-12-31 00:00:00               NaN                [2]  \n",
      "\n",
      "EU dataset preview:\n",
      "   Rank         Country  2017 population  % of pop.  \\\n",
      "0     1         Germany         82800000      16.18   \n",
      "1     2          France         67210459      13.10   \n",
      "2     3  United Kingdom         65808573      12.86   \n",
      "\n",
      "   Average relative annual growth  Average absolute annual growth  \\\n",
      "0                            0.76                          628876   \n",
      "1                            0.40                          265557   \n",
      "2                            0.65                          428793   \n",
      "\n",
      "   Official figure Date of last figure                     Source  \n",
      "0         82576900          2017-03-31          Official estimate  \n",
      "1         67174000          2018-01-01  Monthly official estimate  \n",
      "2         65648100          2017-06-30          Official estimate  \n"
     ]
    }
   ],
   "source": [
    "# Preview the data\n",
    "print(\"Europe dataset preview:\")\n",
    "print(europe.head(3))\n",
    "print(\"\\nEU dataset preview:\")\n",
    "print(eu.head(3))\n"
   ]
  },
  {
   "cell_type": "code",
   "execution_count": 44,
   "id": "4238a3fa",
   "metadata": {},
   "outputs": [
    {
     "name": "stdout",
     "output_type": "stream",
     "text": [
      "\n",
      "Is EU a subset of Europe? True\n",
      "\n",
      "European countries not in the EU (2018):\n",
      "['Albania', 'Andorra', 'Armenia', 'Azerbaijan', 'Belarus', 'Bosnia and Herzegovina', 'Faroe Islands (Denmark)', 'Georgia', 'Gibraltar (UK)', 'Guernsey (UK)', 'Iceland', 'Isle of Man (UK)', 'Jersey (UK)', 'Kosovo', 'Liechtenstein', 'Macedonia', 'Moldova', 'Monaco', 'Montenegro', 'Norway', 'Russia', 'San Marino', 'Serbia', 'Svalbard (Norway)', 'Switzerland', 'Turkey', 'Ukraine', 'Vatican City', 'Åland Islands (Finland)']\n"
     ]
    }
   ],
   "source": [
    "# Get sets of country names\n",
    "europe_countries = set(europe['Country'])\n",
    "eu_countries = set(eu['Country'])\n",
    "\n",
    "# Check if EU countries are a subset of European countries\n",
    "print(\"\\nIs EU a subset of Europe?\", eu_countries.issubset(europe_countries))\n",
    "\n",
    "# Find countries in Europe but not in EU\n",
    "non_eu_countries = europe_countries - eu_countries\n",
    "\n",
    "# Display the result\n",
    "print(\"\\nEuropean countries not in the EU (2018):\")\n",
    "print(sorted(non_eu_countries))"
   ]
  }
 ],
 "metadata": {
  "kernelspec": {
   "display_name": "base",
   "language": "python",
   "name": "python3"
  },
  "language_info": {
   "codemirror_mode": {
    "name": "ipython",
    "version": 3
   },
   "file_extension": ".py",
   "mimetype": "text/x-python",
   "name": "python",
   "nbconvert_exporter": "python",
   "pygments_lexer": "ipython3",
   "version": "3.12.4"
  }
 },
 "nbformat": 4,
 "nbformat_minor": 5
}
